{
    "cells": [
        {
            "cell_type": "code",
            "execution_count": 1,
            "metadata": {},
            "outputs": [
                {
                    "name": "stdout",
                    "output_type": "stream",
                    "text": "Collecting pycoingecko\n  Downloading pycoingecko-2.2.0-py3-none-any.whl (8.3 kB)\nRequirement already satisfied: requests in /opt/conda/envs/Python-3.8-main/lib/python3.8/site-packages (from pycoingecko) (2.25.1)\nRequirement already satisfied: certifi>=2017.4.17 in /opt/conda/envs/Python-3.8-main/lib/python3.8/site-packages (from requests->pycoingecko) (2021.10.8)\nRequirement already satisfied: idna<3,>=2.5 in /opt/conda/envs/Python-3.8-main/lib/python3.8/site-packages (from requests->pycoingecko) (2.8)\nRequirement already satisfied: chardet<5,>=3.0.2 in /opt/conda/envs/Python-3.8-main/lib/python3.8/site-packages (from requests->pycoingecko) (3.0.4)\nRequirement already satisfied: urllib3<1.27,>=1.21.1 in /opt/conda/envs/Python-3.8-main/lib/python3.8/site-packages (from requests->pycoingecko) (1.26.6)\nInstalling collected packages: pycoingecko\nSuccessfully installed pycoingecko-2.2.0\nRequirement already satisfied: plotly in /opt/conda/envs/Python-3.8-main/lib/python3.8/site-packages (4.14.3)\nRequirement already satisfied: retrying>=1.3.3 in /opt/conda/envs/Python-3.8-main/lib/python3.8/site-packages (from plotly) (1.3.3)\nRequirement already satisfied: six in /opt/conda/envs/Python-3.8-main/lib/python3.8/site-packages (from plotly) (1.15.0)\nCollecting mplfinance\n  Downloading mplfinance-0.12.8b4-py3-none-any.whl (64 kB)\n\u001b[K     |\u2588\u2588\u2588\u2588\u2588\u2588\u2588\u2588\u2588\u2588\u2588\u2588\u2588\u2588\u2588\u2588\u2588\u2588\u2588\u2588\u2588\u2588\u2588\u2588\u2588\u2588\u2588\u2588\u2588\u2588\u2588\u2588| 64 kB 3.7 MB/s  eta 0:00:01\n\u001b[?25hRequirement already satisfied: matplotlib in /opt/conda/envs/Python-3.8-main/lib/python3.8/site-packages (from mplfinance) (3.3.4)\nRequirement already satisfied: pandas in /opt/conda/envs/Python-3.8-main/lib/python3.8/site-packages (from mplfinance) (1.2.4)\nRequirement already satisfied: pyparsing!=2.0.4,!=2.1.2,!=2.1.6,>=2.0.3 in /opt/conda/envs/Python-3.8-main/lib/python3.8/site-packages (from matplotlib->mplfinance) (2.4.7)\nRequirement already satisfied: numpy>=1.15 in /opt/conda/envs/Python-3.8-main/lib/python3.8/site-packages (from matplotlib->mplfinance) (1.19.2)\nRequirement already satisfied: kiwisolver>=1.0.1 in /opt/conda/envs/Python-3.8-main/lib/python3.8/site-packages (from matplotlib->mplfinance) (1.3.1)\nRequirement already satisfied: python-dateutil>=2.1 in /opt/conda/envs/Python-3.8-main/lib/python3.8/site-packages (from matplotlib->mplfinance) (2.8.1)\nRequirement already satisfied: pillow>=6.2.0 in /opt/conda/envs/Python-3.8-main/lib/python3.8/site-packages (from matplotlib->mplfinance) (8.4.0)\nRequirement already satisfied: cycler>=0.10 in /opt/conda/envs/Python-3.8-main/lib/python3.8/site-packages (from matplotlib->mplfinance) (0.10.0)\nRequirement already satisfied: six in /opt/conda/envs/Python-3.8-main/lib/python3.8/site-packages (from cycler>=0.10->matplotlib->mplfinance) (1.15.0)\nRequirement already satisfied: pytz>=2017.3 in /opt/conda/envs/Python-3.8-main/lib/python3.8/site-packages (from pandas->mplfinance) (2021.1)\nInstalling collected packages: mplfinance\nSuccessfully installed mplfinance-0.12.8b4\n"
                }
            ],
            "source": "!pip install pycoingecko\n!pip install plotly\n!pip install mplfinance"
        },
        {
            "cell_type": "code",
            "execution_count": 2,
            "metadata": {},
            "outputs": [],
            "source": "import pandas as pd\nimport numpy as np\nimport plotly.graph_objects as go\nfrom plotly.offline import plot\nimport matplotlib.pyplot as plt\nimport datetime\nfrom pycoingecko import CoinGeckoAPI\nfrom mplfinance.original_flavor import candlestick2_ohlc"
        },
        {
            "cell_type": "code",
            "execution_count": 3,
            "metadata": {},
            "outputs": [],
            "source": "dict_={'a':[11,21,31],'b':[12,22,32]}"
        },
        {
            "cell_type": "code",
            "execution_count": 4,
            "metadata": {},
            "outputs": [
                {
                    "data": {
                        "text/plain": "pandas.core.frame.DataFrame"
                    },
                    "execution_count": 4,
                    "metadata": {},
                    "output_type": "execute_result"
                }
            ],
            "source": "df=pd.DataFrame(dict_)\ntype(df)"
        },
        {
            "cell_type": "code",
            "execution_count": 5,
            "metadata": {},
            "outputs": [
                {
                    "data": {
                        "text/html": "<div>\n<style scoped>\n    .dataframe tbody tr th:only-of-type {\n        vertical-align: middle;\n    }\n\n    .dataframe tbody tr th {\n        vertical-align: top;\n    }\n\n    .dataframe thead th {\n        text-align: right;\n    }\n</style>\n<table border=\"1\" class=\"dataframe\">\n  <thead>\n    <tr style=\"text-align: right;\">\n      <th></th>\n      <th>a</th>\n      <th>b</th>\n    </tr>\n  </thead>\n  <tbody>\n    <tr>\n      <th>0</th>\n      <td>11</td>\n      <td>12</td>\n    </tr>\n    <tr>\n      <th>1</th>\n      <td>21</td>\n      <td>22</td>\n    </tr>\n    <tr>\n      <th>2</th>\n      <td>31</td>\n      <td>32</td>\n    </tr>\n  </tbody>\n</table>\n</div>",
                        "text/plain": "    a   b\n0  11  12\n1  21  22\n2  31  32"
                    },
                    "execution_count": 5,
                    "metadata": {},
                    "output_type": "execute_result"
                }
            ],
            "source": "df.head()"
        },
        {
            "cell_type": "code",
            "execution_count": 14,
            "metadata": {},
            "outputs": [
                {
                    "data": {
                        "text/plain": "a    21.0\nb    22.0\ndtype: float64"
                    },
                    "execution_count": 14,
                    "metadata": {},
                    "output_type": "execute_result"
                }
            ],
            "source": "df.mean()"
        },
        {
            "cell_type": "code",
            "execution_count": 13,
            "metadata": {},
            "outputs": [
                {
                    "data": {
                        "text/plain": "a    31\nb    32\ndtype: int64"
                    },
                    "execution_count": 13,
                    "metadata": {},
                    "output_type": "execute_result"
                }
            ],
            "source": "df.max()"
        },
        {
            "cell_type": "code",
            "execution_count": 17,
            "metadata": {},
            "outputs": [],
            "source": "cg = CoinGeckoAPI()\nbitcoin_data = cg.get_coin_market_chart_by_id(id='bitcoin', vs_currency='usd', days=30)"
        },
        {
            "cell_type": "code",
            "execution_count": 18,
            "metadata": {},
            "outputs": [
                {
                    "data": {
                        "text/plain": "dict"
                    },
                    "execution_count": 18,
                    "metadata": {},
                    "output_type": "execute_result"
                }
            ],
            "source": "type(bitcoin_data)"
        },
        {
            "cell_type": "code",
            "execution_count": 21,
            "metadata": {},
            "outputs": [
                {
                    "data": {
                        "text/plain": "[[1636905647369, 64382.234299135795],\n [1636909344634, 63874.891513550705],\n [1636912803726, 64437.226342290676],\n [1636916439165, 64095.594918662646],\n [1636920125414, 64216.75532501951]]"
                    },
                    "execution_count": 21,
                    "metadata": {},
                    "output_type": "execute_result"
                }
            ],
            "source": "bitcoin_price_data = bitcoin_data['prices']\nbitcoin_price_data[0:5]"
        },
        {
            "cell_type": "code",
            "execution_count": 27,
            "metadata": {},
            "outputs": [],
            "source": "data_df = pd.DataFrame(bitcoin_price_data, columns=['TimeStamp', 'prices'])"
        },
        {
            "cell_type": "code",
            "execution_count": 28,
            "metadata": {},
            "outputs": [
                {
                    "data": {
                        "text/html": "<div>\n<style scoped>\n    .dataframe tbody tr th:only-of-type {\n        vertical-align: middle;\n    }\n\n    .dataframe tbody tr th {\n        vertical-align: top;\n    }\n\n    .dataframe thead th {\n        text-align: right;\n    }\n</style>\n<table border=\"1\" class=\"dataframe\">\n  <thead>\n    <tr style=\"text-align: right;\">\n      <th></th>\n      <th>TimeStamp</th>\n      <th>prices</th>\n    </tr>\n  </thead>\n  <tbody>\n    <tr>\n      <th>0</th>\n      <td>1636905647369</td>\n      <td>64382.234299</td>\n    </tr>\n    <tr>\n      <th>1</th>\n      <td>1636909344634</td>\n      <td>63874.891514</td>\n    </tr>\n    <tr>\n      <th>2</th>\n      <td>1636912803726</td>\n      <td>64437.226342</td>\n    </tr>\n    <tr>\n      <th>3</th>\n      <td>1636916439165</td>\n      <td>64095.594919</td>\n    </tr>\n    <tr>\n      <th>4</th>\n      <td>1636920125414</td>\n      <td>64216.755325</td>\n    </tr>\n  </tbody>\n</table>\n</div>",
                        "text/plain": "       TimeStamp        prices\n0  1636905647369  64382.234299\n1  1636909344634  63874.891514\n2  1636912803726  64437.226342\n3  1636916439165  64095.594919\n4  1636920125414  64216.755325"
                    },
                    "execution_count": 28,
                    "metadata": {},
                    "output_type": "execute_result"
                }
            ],
            "source": "data_df.head()"
        },
        {
            "cell_type": "code",
            "execution_count": 33,
            "metadata": {},
            "outputs": [],
            "source": "data_df['date'] = data_df['TimeStamp'].apply(lambda d: datetime.date.fromtimestamp(d/1000.0))"
        },
        {
            "cell_type": "code",
            "execution_count": 34,
            "metadata": {},
            "outputs": [
                {
                    "data": {
                        "text/html": "<div>\n<style scoped>\n    .dataframe tbody tr th:only-of-type {\n        vertical-align: middle;\n    }\n\n    .dataframe tbody tr th {\n        vertical-align: top;\n    }\n\n    .dataframe thead th {\n        text-align: right;\n    }\n</style>\n<table border=\"1\" class=\"dataframe\">\n  <thead>\n    <tr style=\"text-align: right;\">\n      <th></th>\n      <th>TimeStamp</th>\n      <th>prices</th>\n      <th>date</th>\n    </tr>\n  </thead>\n  <tbody>\n    <tr>\n      <th>0</th>\n      <td>1636905647369</td>\n      <td>64382.234299</td>\n      <td>2021-11-14</td>\n    </tr>\n    <tr>\n      <th>1</th>\n      <td>1636909344634</td>\n      <td>63874.891514</td>\n      <td>2021-11-14</td>\n    </tr>\n    <tr>\n      <th>2</th>\n      <td>1636912803726</td>\n      <td>64437.226342</td>\n      <td>2021-11-14</td>\n    </tr>\n    <tr>\n      <th>3</th>\n      <td>1636916439165</td>\n      <td>64095.594919</td>\n      <td>2021-11-14</td>\n    </tr>\n    <tr>\n      <th>4</th>\n      <td>1636920125414</td>\n      <td>64216.755325</td>\n      <td>2021-11-14</td>\n    </tr>\n    <tr>\n      <th>...</th>\n      <td>...</td>\n      <td>...</td>\n      <td>...</td>\n    </tr>\n    <tr>\n      <th>717</th>\n      <td>1639483398597</td>\n      <td>47489.684556</td>\n      <td>2021-12-14</td>\n    </tr>\n    <tr>\n      <th>718</th>\n      <td>1639486877147</td>\n      <td>47681.118710</td>\n      <td>2021-12-14</td>\n    </tr>\n    <tr>\n      <th>719</th>\n      <td>1639490608043</td>\n      <td>47170.550856</td>\n      <td>2021-12-14</td>\n    </tr>\n    <tr>\n      <th>720</th>\n      <td>1639494162130</td>\n      <td>47397.789001</td>\n      <td>2021-12-14</td>\n    </tr>\n    <tr>\n      <th>721</th>\n      <td>1639495485000</td>\n      <td>47287.623627</td>\n      <td>2021-12-14</td>\n    </tr>\n  </tbody>\n</table>\n<p>722 rows \u00d7 3 columns</p>\n</div>",
                        "text/plain": "         TimeStamp        prices        date\n0    1636905647369  64382.234299  2021-11-14\n1    1636909344634  63874.891514  2021-11-14\n2    1636912803726  64437.226342  2021-11-14\n3    1636916439165  64095.594919  2021-11-14\n4    1636920125414  64216.755325  2021-11-14\n..             ...           ...         ...\n717  1639483398597  47489.684556  2021-12-14\n718  1639486877147  47681.118710  2021-12-14\n719  1639490608043  47170.550856  2021-12-14\n720  1639494162130  47397.789001  2021-12-14\n721  1639495485000  47287.623627  2021-12-14\n\n[722 rows x 3 columns]"
                    },
                    "execution_count": 34,
                    "metadata": {},
                    "output_type": "execute_result"
                }
            ],
            "source": "data_df"
        },
        {
            "cell_type": "code",
            "execution_count": 44,
            "metadata": {},
            "outputs": [],
            "source": "candle_stick_data = data_df.groupby(data_df.date, as_index=False).agg({'prices': ['min', 'max', 'first', 'last']})"
        },
        {
            "cell_type": "code",
            "execution_count": 48,
            "metadata": {},
            "outputs": [],
            "source": "fig = go.Figure(data=[go.Candlestick(x=candle_stick_data['date'],\n                open=candle_stick_data['prices']['first'], \n                high=candle_stick_data['prices']['max'],\n                low=candle_stick_data['prices']['min'], \n                close=candle_stick_data['prices']['last'])\n                ])\n\nfig.update_layout(xaxis_rangeslider_visible=False)\n\nfig.show()"
        },
        {
            "cell_type": "code",
            "execution_count": null,
            "metadata": {},
            "outputs": [],
            "source": ""
        }
    ],
    "metadata": {
        "kernelspec": {
            "display_name": "Python 3.8",
            "language": "python",
            "name": "python3"
        },
        "language_info": {
            "codemirror_mode": {
                "name": "ipython",
                "version": 3
            },
            "file_extension": ".py",
            "mimetype": "text/x-python",
            "name": "python",
            "nbconvert_exporter": "python",
            "pygments_lexer": "ipython3",
            "version": "3.8.12"
        }
    },
    "nbformat": 4,
    "nbformat_minor": 1
}