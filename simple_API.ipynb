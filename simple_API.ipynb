{
    "cells": [
        {
            "metadata": {},
            "cell_type": "code",
            "source": "!pip install pycoingecko\n!pip install plotly\n!pip install mplfinance",
            "execution_count": 1,
            "outputs": [
                {
                    "output_type": "stream",
                    "text": "Collecting pycoingecko\n  Downloading pycoingecko-2.2.0-py3-none-any.whl (8.3 kB)\nRequirement already satisfied: requests in /opt/conda/envs/Python-3.8-main/lib/python3.8/site-packages (from pycoingecko) (2.25.1)\nRequirement already satisfied: certifi>=2017.4.17 in /opt/conda/envs/Python-3.8-main/lib/python3.8/site-packages (from requests->pycoingecko) (2021.10.8)\nRequirement already satisfied: idna<3,>=2.5 in /opt/conda/envs/Python-3.8-main/lib/python3.8/site-packages (from requests->pycoingecko) (2.8)\nRequirement already satisfied: chardet<5,>=3.0.2 in /opt/conda/envs/Python-3.8-main/lib/python3.8/site-packages (from requests->pycoingecko) (3.0.4)\nRequirement already satisfied: urllib3<1.27,>=1.21.1 in /opt/conda/envs/Python-3.8-main/lib/python3.8/site-packages (from requests->pycoingecko) (1.26.6)\nInstalling collected packages: pycoingecko\nSuccessfully installed pycoingecko-2.2.0\nRequirement already satisfied: plotly in /opt/conda/envs/Python-3.8-main/lib/python3.8/site-packages (4.14.3)\nRequirement already satisfied: retrying>=1.3.3 in /opt/conda/envs/Python-3.8-main/lib/python3.8/site-packages (from plotly) (1.3.3)\nRequirement already satisfied: six in /opt/conda/envs/Python-3.8-main/lib/python3.8/site-packages (from plotly) (1.15.0)\nCollecting mplfinance\n  Downloading mplfinance-0.12.8b4-py3-none-any.whl (64 kB)\n\u001b[K     |\u2588\u2588\u2588\u2588\u2588\u2588\u2588\u2588\u2588\u2588\u2588\u2588\u2588\u2588\u2588\u2588\u2588\u2588\u2588\u2588\u2588\u2588\u2588\u2588\u2588\u2588\u2588\u2588\u2588\u2588\u2588\u2588| 64 kB 3.7 MB/s  eta 0:00:01\n\u001b[?25hRequirement already satisfied: matplotlib in /opt/conda/envs/Python-3.8-main/lib/python3.8/site-packages (from mplfinance) (3.3.4)\nRequirement already satisfied: pandas in /opt/conda/envs/Python-3.8-main/lib/python3.8/site-packages (from mplfinance) (1.2.4)\nRequirement already satisfied: pyparsing!=2.0.4,!=2.1.2,!=2.1.6,>=2.0.3 in /opt/conda/envs/Python-3.8-main/lib/python3.8/site-packages (from matplotlib->mplfinance) (2.4.7)\nRequirement already satisfied: numpy>=1.15 in /opt/conda/envs/Python-3.8-main/lib/python3.8/site-packages (from matplotlib->mplfinance) (1.19.2)\nRequirement already satisfied: kiwisolver>=1.0.1 in /opt/conda/envs/Python-3.8-main/lib/python3.8/site-packages (from matplotlib->mplfinance) (1.3.1)\nRequirement already satisfied: python-dateutil>=2.1 in /opt/conda/envs/Python-3.8-main/lib/python3.8/site-packages (from matplotlib->mplfinance) (2.8.1)\nRequirement already satisfied: pillow>=6.2.0 in /opt/conda/envs/Python-3.8-main/lib/python3.8/site-packages (from matplotlib->mplfinance) (8.4.0)\nRequirement already satisfied: cycler>=0.10 in /opt/conda/envs/Python-3.8-main/lib/python3.8/site-packages (from matplotlib->mplfinance) (0.10.0)\nRequirement already satisfied: six in /opt/conda/envs/Python-3.8-main/lib/python3.8/site-packages (from cycler>=0.10->matplotlib->mplfinance) (1.15.0)\nRequirement already satisfied: pytz>=2017.3 in /opt/conda/envs/Python-3.8-main/lib/python3.8/site-packages (from pandas->mplfinance) (2021.1)\nInstalling collected packages: mplfinance\nSuccessfully installed mplfinance-0.12.8b4\n",
                    "name": "stdout"
                }
            ]
        },
        {
            "metadata": {},
            "cell_type": "code",
            "source": "import pandas as pd\nimport numpy as np\nimport plotly.graph_objects as go\nfrom plotly.offline import plot\nimport matplotlib.pyplot as plt\nimport datetime\nfrom pycoingecko import CoinGeckoAPI\nfrom mplfinance.original_flavor import candlestick2_ohlc",
            "execution_count": 2,
            "outputs": []
        },
        {
            "metadata": {},
            "cell_type": "code",
            "source": "dict_={'a':[11,21,31],'b':[12,22,32]}",
            "execution_count": 3,
            "outputs": []
        },
        {
            "metadata": {},
            "cell_type": "code",
            "source": "df=pd.DataFrame(dict_)\ntype(df)",
            "execution_count": 4,
            "outputs": [
                {
                    "output_type": "execute_result",
                    "execution_count": 4,
                    "data": {
                        "text/plain": "pandas.core.frame.DataFrame"
                    },
                    "metadata": {}
                }
            ]
        },
        {
            "metadata": {},
            "cell_type": "code",
            "source": "df.head()",
            "execution_count": 5,
            "outputs": [
                {
                    "output_type": "execute_result",
                    "execution_count": 5,
                    "data": {
                        "text/plain": "    a   b\n0  11  12\n1  21  22\n2  31  32",
                        "text/html": "<div>\n<style scoped>\n    .dataframe tbody tr th:only-of-type {\n        vertical-align: middle;\n    }\n\n    .dataframe tbody tr th {\n        vertical-align: top;\n    }\n\n    .dataframe thead th {\n        text-align: right;\n    }\n</style>\n<table border=\"1\" class=\"dataframe\">\n  <thead>\n    <tr style=\"text-align: right;\">\n      <th></th>\n      <th>a</th>\n      <th>b</th>\n    </tr>\n  </thead>\n  <tbody>\n    <tr>\n      <th>0</th>\n      <td>11</td>\n      <td>12</td>\n    </tr>\n    <tr>\n      <th>1</th>\n      <td>21</td>\n      <td>22</td>\n    </tr>\n    <tr>\n      <th>2</th>\n      <td>31</td>\n      <td>32</td>\n    </tr>\n  </tbody>\n</table>\n</div>"
                    },
                    "metadata": {}
                }
            ]
        },
        {
            "metadata": {},
            "cell_type": "code",
            "source": "df.mean()",
            "execution_count": 14,
            "outputs": [
                {
                    "output_type": "execute_result",
                    "execution_count": 14,
                    "data": {
                        "text/plain": "a    21.0\nb    22.0\ndtype: float64"
                    },
                    "metadata": {}
                }
            ]
        },
        {
            "metadata": {},
            "cell_type": "code",
            "source": "df.max()",
            "execution_count": 13,
            "outputs": [
                {
                    "output_type": "execute_result",
                    "execution_count": 13,
                    "data": {
                        "text/plain": "a    31\nb    32\ndtype: int64"
                    },
                    "metadata": {}
                }
            ]
        },
        {
            "metadata": {},
            "cell_type": "code",
            "source": "cg = CoinGeckoAPI()\nbitcoin_data = cg.get_coin_market_chart_by_id(id='bitcoin', vs_currency='usd', days=30)",
            "execution_count": 17,
            "outputs": []
        },
        {
            "metadata": {},
            "cell_type": "code",
            "source": "type(bitcoin_data)",
            "execution_count": 18,
            "outputs": [
                {
                    "output_type": "execute_result",
                    "execution_count": 18,
                    "data": {
                        "text/plain": "dict"
                    },
                    "metadata": {}
                }
            ]
        },
        {
            "metadata": {},
            "cell_type": "code",
            "source": "bitcoin_price_data = bitcoin_data['prices']\nbitcoin_price_data[0:5]",
            "execution_count": 21,
            "outputs": [
                {
                    "output_type": "execute_result",
                    "execution_count": 21,
                    "data": {
                        "text/plain": "[[1636905647369, 64382.234299135795],\n [1636909344634, 63874.891513550705],\n [1636912803726, 64437.226342290676],\n [1636916439165, 64095.594918662646],\n [1636920125414, 64216.75532501951]]"
                    },
                    "metadata": {}
                }
            ]
        },
        {
            "metadata": {},
            "cell_type": "code",
            "source": "data_df = pd.DataFrame(bitcoin_price_data, columns=['TimeStamp', 'prices'])",
            "execution_count": 27,
            "outputs": []
        },
        {
            "metadata": {},
            "cell_type": "code",
            "source": "data_df.head()",
            "execution_count": 28,
            "outputs": [
                {
                    "output_type": "execute_result",
                    "execution_count": 28,
                    "data": {
                        "text/plain": "       TimeStamp        prices\n0  1636905647369  64382.234299\n1  1636909344634  63874.891514\n2  1636912803726  64437.226342\n3  1636916439165  64095.594919\n4  1636920125414  64216.755325",
                        "text/html": "<div>\n<style scoped>\n    .dataframe tbody tr th:only-of-type {\n        vertical-align: middle;\n    }\n\n    .dataframe tbody tr th {\n        vertical-align: top;\n    }\n\n    .dataframe thead th {\n        text-align: right;\n    }\n</style>\n<table border=\"1\" class=\"dataframe\">\n  <thead>\n    <tr style=\"text-align: right;\">\n      <th></th>\n      <th>TimeStamp</th>\n      <th>prices</th>\n    </tr>\n  </thead>\n  <tbody>\n    <tr>\n      <th>0</th>\n      <td>1636905647369</td>\n      <td>64382.234299</td>\n    </tr>\n    <tr>\n      <th>1</th>\n      <td>1636909344634</td>\n      <td>63874.891514</td>\n    </tr>\n    <tr>\n      <th>2</th>\n      <td>1636912803726</td>\n      <td>64437.226342</td>\n    </tr>\n    <tr>\n      <th>3</th>\n      <td>1636916439165</td>\n      <td>64095.594919</td>\n    </tr>\n    <tr>\n      <th>4</th>\n      <td>1636920125414</td>\n      <td>64216.755325</td>\n    </tr>\n  </tbody>\n</table>\n</div>"
                    },
                    "metadata": {}
                }
            ]
        },
        {
            "metadata": {},
            "cell_type": "code",
            "source": "data_df['date'] = data_df['TimeStamp'].apply(lambda d: datetime.date.fromtimestamp(d/1000.0))",
            "execution_count": 33,
            "outputs": []
        },
        {
            "metadata": {},
            "cell_type": "code",
            "source": "data_df",
            "execution_count": 34,
            "outputs": [
                {
                    "output_type": "execute_result",
                    "execution_count": 34,
                    "data": {
                        "text/plain": "         TimeStamp        prices        date\n0    1636905647369  64382.234299  2021-11-14\n1    1636909344634  63874.891514  2021-11-14\n2    1636912803726  64437.226342  2021-11-14\n3    1636916439165  64095.594919  2021-11-14\n4    1636920125414  64216.755325  2021-11-14\n..             ...           ...         ...\n717  1639483398597  47489.684556  2021-12-14\n718  1639486877147  47681.118710  2021-12-14\n719  1639490608043  47170.550856  2021-12-14\n720  1639494162130  47397.789001  2021-12-14\n721  1639495485000  47287.623627  2021-12-14\n\n[722 rows x 3 columns]",
                        "text/html": "<div>\n<style scoped>\n    .dataframe tbody tr th:only-of-type {\n        vertical-align: middle;\n    }\n\n    .dataframe tbody tr th {\n        vertical-align: top;\n    }\n\n    .dataframe thead th {\n        text-align: right;\n    }\n</style>\n<table border=\"1\" class=\"dataframe\">\n  <thead>\n    <tr style=\"text-align: right;\">\n      <th></th>\n      <th>TimeStamp</th>\n      <th>prices</th>\n      <th>date</th>\n    </tr>\n  </thead>\n  <tbody>\n    <tr>\n      <th>0</th>\n      <td>1636905647369</td>\n      <td>64382.234299</td>\n      <td>2021-11-14</td>\n    </tr>\n    <tr>\n      <th>1</th>\n      <td>1636909344634</td>\n      <td>63874.891514</td>\n      <td>2021-11-14</td>\n    </tr>\n    <tr>\n      <th>2</th>\n      <td>1636912803726</td>\n      <td>64437.226342</td>\n      <td>2021-11-14</td>\n    </tr>\n    <tr>\n      <th>3</th>\n      <td>1636916439165</td>\n      <td>64095.594919</td>\n      <td>2021-11-14</td>\n    </tr>\n    <tr>\n      <th>4</th>\n      <td>1636920125414</td>\n      <td>64216.755325</td>\n      <td>2021-11-14</td>\n    </tr>\n    <tr>\n      <th>...</th>\n      <td>...</td>\n      <td>...</td>\n      <td>...</td>\n    </tr>\n    <tr>\n      <th>717</th>\n      <td>1639483398597</td>\n      <td>47489.684556</td>\n      <td>2021-12-14</td>\n    </tr>\n    <tr>\n      <th>718</th>\n      <td>1639486877147</td>\n      <td>47681.118710</td>\n      <td>2021-12-14</td>\n    </tr>\n    <tr>\n      <th>719</th>\n      <td>1639490608043</td>\n      <td>47170.550856</td>\n      <td>2021-12-14</td>\n    </tr>\n    <tr>\n      <th>720</th>\n      <td>1639494162130</td>\n      <td>47397.789001</td>\n      <td>2021-12-14</td>\n    </tr>\n    <tr>\n      <th>721</th>\n      <td>1639495485000</td>\n      <td>47287.623627</td>\n      <td>2021-12-14</td>\n    </tr>\n  </tbody>\n</table>\n<p>722 rows \u00d7 3 columns</p>\n</div>"
                    },
                    "metadata": {}
                }
            ]
        },
        {
            "metadata": {},
            "cell_type": "code",
            "source": "candle_stick_data = data_df.groupby(data_df.date, as_index=False).agg({'prices': ['min', 'max', 'first', 'last']})",
            "execution_count": 44,
            "outputs": []
        },
        {
            "metadata": {},
            "cell_type": "code",
            "source": "fig = go.Figure(data=[go.Candlestick(x=candle_stick_data['date'],\n                open=candle_stick_data['prices']['first'], \n                high=candle_stick_data['prices']['max'],\n                low=candle_stick_data['prices']['min'], \n                close=candle_stick_data['prices']['last'])\n                ])\n\nfig.update_layout(xaxis_rangeslider_visible=False)\n\nfig.show()",
            "execution_count": 48,
            "outputs": []
        },
        {
            "metadata": {},
            "cell_type": "code",
            "source": "",
            "execution_count": null,
            "outputs": []
        }
    ],
    "metadata": {
        "kernelspec": {
            "name": "python3",
            "display_name": "Python 3.8",
            "language": "python"
        },
        "language_info": {
            "name": "python",
            "version": "3.8.12",
            "mimetype": "text/x-python",
            "codemirror_mode": {
                "name": "ipython",
                "version": 3
            },
            "pygments_lexer": "ipython3",
            "nbconvert_exporter": "python",
            "file_extension": ".py"
        }
    },
    "nbformat": 4,
    "nbformat_minor": 1
}